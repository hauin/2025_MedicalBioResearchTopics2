{
  "cells": [
    {
      "cell_type": "markdown",
      "metadata": {
        "id": "oWP9ngLevnKB"
      },
      "source": [
        "# **Reading DICOM and NIfTI files**\n",
        "This example shows how to read DICOM and NIfTI files and check metadata and imagedata in them.\n",
        "The example files come from https://github.com/hauin/2025_MedicalBioResearchTopics2/tree/main/01_20250905/MRI."
      ]
    },
    {
      "cell_type": "code",
      "execution_count": null,
      "metadata": {
        "colab": {
          "base_uri": "https://localhost:8080/"
        },
        "executionInfo": {
          "elapsed": 30652,
          "status": "ok",
          "timestamp": 1694655036791,
          "user": {
            "displayName": "Anonymous",
            "userId": "11098257337995388595"
          },
          "user_tz": -540
        },
        "id": "7PkFOw5SWxRe",
        "outputId": "96244244-d71c-4a56-d2f1-024aefa5429c"
      },
      "outputs": [],
      "source": [
        "import os\n",
        "import glob\n",
        "import pydicom as dcm\n",
        "import nibabel as nib\n",
        "import matplotlib.pyplot as plt\n",
        "\n",
        "mri_path = \"MRI\""
      ]
    },
    {
      "cell_type": "markdown",
      "metadata": {
        "id": "Hk-2uLp2f7OE"
      },
      "source": [
        "## **Read DICOM**"
      ]
    },
    {
      "cell_type": "code",
      "execution_count": null,
      "metadata": {
        "executionInfo": {
          "elapsed": 861,
          "status": "ok",
          "timestamp": 1694655080137,
          "user": {
            "displayName": "Anonymous",
            "userId": "11098257337995388595"
          },
          "user_tz": -540
        },
        "id": "HyrPOTcoX-Zi"
      },
      "outputs": [],
      "source": [
        "dcm_files = sorted(glob.glob(os.path.join(mri_path, \"DICOM\", \"*.dcm\")))"
      ]
    },
    {
      "cell_type": "markdown",
      "metadata": {
        "id": "WmCA4sXTnmeS"
      },
      "source": [
        "**By pydicom**"
      ]
    },
    {
      "cell_type": "code",
      "execution_count": null,
      "metadata": {
        "executionInfo": {
          "elapsed": 318,
          "status": "ok",
          "timestamp": 1694655096965,
          "user": {
            "displayName": "Anonymous",
            "userId": "11098257337995388595"
          },
          "user_tz": -540
        },
        "id": "Qa_-tyLhZrOB"
      },
      "outputs": [],
      "source": [
        "raw = dcm.dcmread(dcm_files[10])"
      ]
    },
    {
      "cell_type": "code",
      "execution_count": null,
      "metadata": {
        "colab": {
          "base_uri": "https://localhost:8080/"
        },
        "executionInfo": {
          "elapsed": 333,
          "status": "ok",
          "timestamp": 1694655142868,
          "user": {
            "displayName": "Anonymous",
            "userId": "11098257337995388595"
          },
          "user_tz": -540
        },
        "id": "DUhpcCb0Z53Q",
        "outputId": "441db7d3-1138-4d93-bc95-27a68a70ec25"
      },
      "outputs": [],
      "source": [
        "# metadata\n",
        "print(raw)"
      ]
    },
    {
      "cell_type": "code",
      "execution_count": null,
      "metadata": {
        "colab": {
          "base_uri": "https://localhost:8080/",
          "height": 435
        },
        "executionInfo": {
          "elapsed": 1457,
          "status": "ok",
          "timestamp": 1694655310952,
          "user": {
            "displayName": "Anonymous",
            "userId": "11098257337995388595"
          },
          "user_tz": -540
        },
        "id": "DU6rjkdjZruc",
        "outputId": "c59cf30f-bdd1-47ed-d2ed-d1284ee914ac"
      },
      "outputs": [],
      "source": [
        "# image data\n",
        "image = raw.pixel_array\n",
        "fig = plt.figure()\n",
        "plt.imshow(image, cmap=\"gray\")\n",
        "plt.show()"
      ]
    },
    {
      "cell_type": "markdown",
      "metadata": {
        "id": "fwRS7zSugIAf"
      },
      "source": [
        "## **Read NIfTI**"
      ]
    },
    {
      "cell_type": "code",
      "execution_count": null,
      "metadata": {
        "executionInfo": {
          "elapsed": 351,
          "status": "ok",
          "timestamp": 1694655524347,
          "user": {
            "displayName": "Anonymous",
            "userId": "11098257337995388595"
          },
          "user_tz": -540
        },
        "id": "MvAULaNnb5ve"
      },
      "outputs": [],
      "source": [
        "nii_file = os.path.join(mri_path, \"NIfTI\", \"001.nii\")"
      ]
    },
    {
      "cell_type": "markdown",
      "metadata": {
        "id": "k--9X6krta-U"
      },
      "source": [
        "**By nibabel**"
      ]
    },
    {
      "cell_type": "code",
      "execution_count": null,
      "metadata": {
        "executionInfo": {
          "elapsed": 335,
          "status": "ok",
          "timestamp": 1694655534352,
          "user": {
            "displayName": "Anonymous",
            "userId": "11098257337995388595"
          },
          "user_tz": -540
        },
        "id": "VG1cgSnXcq60"
      },
      "outputs": [],
      "source": [
        "raw = nib.load(nii_file)"
      ]
    },
    {
      "cell_type": "code",
      "execution_count": null,
      "metadata": {
        "colab": {
          "base_uri": "https://localhost:8080/"
        },
        "executionInfo": {
          "elapsed": 438,
          "status": "ok",
          "timestamp": 1694655545010,
          "user": {
            "displayName": "Anonymous",
            "userId": "11098257337995388595"
          },
          "user_tz": -540
        },
        "id": "tcsCTzAxcw57",
        "outputId": "105e344f-72be-4155-84b5-5b3439f400ec"
      },
      "outputs": [],
      "source": [
        "# metadata\n",
        "meta = raw.header\n",
        "print(meta)"
      ]
    },
    {
      "cell_type": "code",
      "execution_count": null,
      "metadata": {
        "colab": {
          "base_uri": "https://localhost:8080/",
          "height": 433
        },
        "executionInfo": {
          "elapsed": 1052,
          "status": "ok",
          "timestamp": 1694655599049,
          "user": {
            "displayName": "Anonymous",
            "userId": "11098257337995388595"
          },
          "user_tz": -540
        },
        "id": "Q2JmSaLihJla",
        "outputId": "33b78ab0-8d04-405e-e26f-887c47395e8f"
      },
      "outputs": [],
      "source": [
        "# image data\n",
        "image = raw.get_fdata()\n",
        "fig = plt.figure()\n",
        "plt.imshow(image[:, :, 45], cmap=\"gray\")\n",
        "plt.show()"
      ]
    }
  ],
  "metadata": {
    "colab": {
      "authorship_tag": "ABX9TyOZZgRYJSdAE/gms8K7zH0b",
      "provenance": []
    },
    "kernelspec": {
      "display_name": "Anonymous",
      "name": "python3"
    },
    "language_info": {
      "codemirror_mode": {
        "name": "ipython",
        "version": 3
      },
      "file_extension": ".py",
      "mimetype": "text/x-python",
      "name": "python",
      "nbconvert_exporter": "python",
      "pygments_lexer": "ipython3",
      "version": "3.11.9"
    }
  },
  "nbformat": 4,
  "nbformat_minor": 0
}